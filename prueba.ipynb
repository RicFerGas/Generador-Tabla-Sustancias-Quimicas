{
 "cells": [
  {
   "cell_type": "code",
   "execution_count": 1,
   "metadata": {},
   "outputs": [
    {
     "name": "stdout",
     "output_type": "stream",
     "text": [
      "/Users/ricardofernandezgasca/Library/CloudStorage/OneDrive-Personnel/Estudios/ESTUDIOS2024/NOM005Bitron24/proyecto/myenv/lib/python3.10/site-packages/xx_ent_wiki_sm\n"
     ]
    }
   ],
   "source": [
    "import spacy \n",
    "model_dir = spacy.util.get_package_path('xx_ent_wiki_sm')\n",
    "print(model_dir)\n",
    "/Users/ricardofernandezgasca/Library/CloudStorage/OneDrive-Personnel/Estudios/ESTUDIOS2024/NOM005Bitron24/proyecto/myenv/lib/python3.10/site-packages/xx_ent_wiki_sm\n"
   ]
  }
 ],
 "metadata": {
  "kernelspec": {
   "display_name": "myenv",
   "language": "python",
   "name": "python3"
  },
  "language_info": {
   "codemirror_mode": {
    "name": "ipython",
    "version": 3
   },
   "file_extension": ".py",
   "mimetype": "text/x-python",
   "name": "python",
   "nbconvert_exporter": "python",
   "pygments_lexer": "ipython3",
   "version": "3.10.14"
  }
 },
 "nbformat": 4,
 "nbformat_minor": 2
}
